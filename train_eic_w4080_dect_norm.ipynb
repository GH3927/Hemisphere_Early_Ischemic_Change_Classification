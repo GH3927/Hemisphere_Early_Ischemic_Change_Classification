{
 "cells": [
  {
   "cell_type": "code",
   "execution_count": 1,
   "metadata": {},
   "outputs": [],
   "source": [
    "import datetime\n",
    "import os\n",
    "import cv2\n",
    "import numpy as np\n",
    "import torch\n",
    "import random\n",
    "from dataset import EICDataset, Resizer, Normalizer, collater, RandAugment, Windowing\n",
    "from dcm import windowing, get_windowing\n",
    "import pydicom\n",
    "import gc\n",
    "\n",
    "from torch import nn\n",
    "import torch.utils.data as data\n",
    "from torch.utils.data import DataLoader\n",
    "from torchvision import transforms\n",
    "import torch.nn.functional as F\n",
    "from torchvision.models import *\n",
    "from torchio import transforms as tio_transforms\n",
    "\n",
    "import pytorch_lightning as pl\n",
    "from pytorch_lightning.loggers.tensorboard import TensorBoardLogger\n",
    "import torchmetrics\n",
    "\n",
    "from tqdm.autonotebook import tqdm\n",
    "from glob import glob\n",
    "import pandas as pd\n",
    "\n",
    "import matplotlib.pyplot as plt\n",
    "from tensorboardX import SummaryWriter\n",
    "import csv\n",
    "import warnings\n",
    "import math\n",
    "from sklearn.metrics import roc_auc_score\n",
    "\n",
    "from grad_cam import *\n",
    "from grad_cam.utils import device \n",
    "from utils import *\n",
    "from loss import FocalLoss, Weighted_Binary_Cross_Entropy\n",
    "from efficientnet.model import EfficientNet\n",
    "\n",
    "warnings.filterwarnings(action='ignore')\n",
    "%matplotlib inline\n",
    "#torch.autograd.set_detect_anomaly(True)"
   ]
  },
  {
   "cell_type": "markdown",
   "metadata": {},
   "source": [
    "# Hyperparameter"
   ]
  },
  {
   "cell_type": "code",
   "execution_count": 2,
   "metadata": {},
   "outputs": [],
   "source": [
    "# Hyperparameters, first modify project, sub_project, WC, WW\n",
    "opt = {\n",
    "    'project':'eic',\n",
    "    'sub_project':'w4080_dect_norm',\n",
    "    'compound_coef':4,\n",
    "    'num_workers':8,\n",
    "    'num_gpus':1,\n",
    "    'batch_size':16*torch.cuda.device_count(),\n",
    "    'test_batch_size':1,\n",
    "    'input_size':[512,256],\n",
    "    'lr':1e-3,\n",
    "    'val_rate':0.1,\n",
    "    'num_epochs':80,\n",
    "    'swa':True,\n",
    "    'precision':16,\n",
    "    'data_path':\"D:/AJ_Eval_DATA_hemi_v3/manual_dataset_dect_norm_dcm/\",\n",
    "    'log_path':'tensorboard/',\n",
    "    'saved_path':'weights/',\n",
    "    'load_weights':'C:/Users/gyuha/Desktop/cASPECTS/EfficientNet_hemi/weights/eic/w4080_tlhm/1/efficientnet-d4_9_10790.pth',\n",
    "    'Windowing':windowing,\n",
    "    'WC':40,\n",
    "    'WW':80,\n",
    "    'mean':[10.604362079468231, 10.604362079468231, 10.604362079468231],\n",
    "    'std':[15.79586109964471, 15.79586109964471, 15.79586109964471],\n",
    "}\n",
    "\n",
    "# Cuda\n",
    "no_cuda = False\n",
    "use_cuda = not no_cuda and torch.cuda.is_available()\n",
    "device = torch.device(\"cuda\" if use_cuda else \"cpu\")\n",
    "Tensor = torch.cuda.FloatTensor if use_cuda else torch.Tensor\n",
    "if use_cuda:\n",
    "    torch.cuda.manual_seed(42)\n",
    "else:\n",
    "    torch.manual_seed(42)\n",
    "\n",
    "# Generator parameters\n",
    "training_params = {'batch_size': opt['batch_size'],\n",
    "                   'shuffle': True,\n",
    "                   'drop_last': True,\n",
    "                   'collate_fn': collater,\n",
    "                   'num_workers': opt['num_workers']}\n",
    "\n",
    "val_params = {'batch_size': opt['batch_size'],\n",
    "              'shuffle': True,\n",
    "              'drop_last': False,\n",
    "              'collate_fn': collater,\n",
    "              'num_workers': opt['num_workers']}\n",
    "\n",
    "test_params = {'batch_size': opt['test_batch_size'],\n",
    "              'shuffle': False,\n",
    "              'drop_last': False,\n",
    "              'collate_fn': collater,\n",
    "              'num_workers': opt['num_workers']}\n",
    "\n",
    "# Set path\n",
    "opt['saved_path'] = opt['saved_path'] + '{}/{}/'.format(opt['project'],opt['sub_project'])\n",
    "os.makedirs(opt['saved_path'], exist_ok=True)\n",
    "opt['log_path'] = opt['log_path'] + '{}/{}/'.format(opt['project'],opt['sub_project'])\n",
    "os.makedirs(opt['log_path'], exist_ok=True)\n",
    "\n",
    "os.makedirs('./test/{}/{}/TP'.format(opt['project'],opt['sub_project']), exist_ok=True)\n",
    "os.makedirs('./test/{}/{}/FP'.format(opt['project'],opt['sub_project']), exist_ok=True)\n",
    "os.makedirs('./test/{}/{}/TN'.format(opt['project'],opt['sub_project']), exist_ok=True)\n",
    "os.makedirs('./test/{}/{}/FN'.format(opt['project'],opt['sub_project']), exist_ok=True)"
   ]
  },
  {
   "cell_type": "markdown",
   "metadata": {},
   "source": [
    "# Preprocessing"
   ]
  },
  {
   "cell_type": "markdown",
   "metadata": {},
   "source": [
    "### - Divide dataset"
   ]
  },
  {
   "cell_type": "code",
   "execution_count": 3,
   "metadata": {},
   "outputs": [
    {
     "data": {
      "image/png": "[encoded data removed]",
      "text/plain": [
       "<Figure size 720x360 with 1 Axes>"
      ]
     },
     "metadata": {
      "needs_background": "light"
     },
     "output_type": "display_data"
    }
   ],
   "source": [
    "# Load path\n",
    "train_right_eic = glob(opt['data_path']+'train/eic_right/*.dcm')\n",
    "train_right_oi = glob(opt['data_path']+'train/oi_right/*.dcm')\n",
    "train_right_eic_oi = glob(opt['data_path']+'train/eic+oi_right/*.dcm')\n",
    "train_right_normal = glob(opt['data_path']+'train/normal_right/*.dcm')\n",
    "train_left_eic = glob(opt['data_path']+'train/eic_left/*.dcm')\n",
    "train_left_oi = glob(opt['data_path']+'train/oi_left/*.dcm')\n",
    "train_left_eic_oi = glob(opt['data_path']+'train/eic+oi_left/*.dcm')\n",
    "train_left_normal = glob(opt['data_path']+'train/normal_left/*.dcm')\n",
    "\n",
    "test_right_eic = glob(opt['data_path']+'test/eic_right/*.dcm')\n",
    "test_right_oi = glob(opt['data_path']+'test/oi_right/*.dcm')\n",
    "test_right_eic_oi = glob(opt['data_path']+'test/eic+oi_right/*.dcm')\n",
    "test_right_normal = glob(opt['data_path']+'test/normal_right/*.dcm')\n",
    "test_left_eic = glob(opt['data_path']+'test/eic_left/*.dcm')\n",
    "test_left_oi = glob(opt['data_path']+'test/oi_left/*.dcm')\n",
    "test_left_eic_oi = glob(opt['data_path']+'test/eic+oi_left/*.dcm')\n",
    "test_left_normal = glob(opt['data_path']+'test/normal_left/*.dcm')\n",
    "    \n",
    "plot_dataset(train_right_eic+test_right_eic, train_right_oi+test_right_oi,\\\n",
    "             train_right_eic_oi+test_right_eic_oi, train_right_normal+test_right_normal,\\\n",
    "             train_left_eic+test_left_eic, train_left_oi+test_left_oi,\\\n",
    "             train_left_eic_oi+test_left_eic_oi, train_left_normal+test_left_normal)"
   ]
  },
  {
   "cell_type": "markdown",
   "metadata": {},
   "source": [
    "### - Get mean, std"
   ]
  },
  {
   "cell_type": "code",
   "execution_count": 4,
   "metadata": {},
   "outputs": [],
   "source": [
    "# image_paths = train_right_eic+test_right_eic+train_right_oi+test_right_oi+\\\n",
    "#               train_right_eic_oi+test_right_eic_oi+train_right_normal+test_right_normal+\\\n",
    "#               train_left_eic+test_left_eic+train_left_oi+test_left_oi+\\\n",
    "#               train_left_eic_oi+test_left_eic_oi+train_left_normal+test_left_normal\n",
    "\n",
    "# data_set = EICDataset(image_paths, transforms.Compose([\n",
    "#                                          RandAugment(3),  # Flip, Brightness, Elastic, Zoom, Blur\n",
    "#                                          Resizer(opt['input_size']),\n",
    "#                                          Windowing(windowing=opt['Windowing'],WC=opt['WC'],WW=opt['WW'],rescale=False),\n",
    "#                                     ]))\n",
    "\n",
    "# image_std = [0,0,0]\n",
    "# image_mean = [0,0,0]\n",
    "\n",
    "# for i in range(len(data_set)):\n",
    "#     data = data_set.__getitem__(i)\n",
    "#     image = data['img']\n",
    "    \n",
    "#     for j in range(len(image_std)):\n",
    "#         image_mean[j] += image[:,:,j].mean()\n",
    "#         image_std[j] += image[:,:,j].std()\n",
    "        \n",
    "# opt['mean'] = [image_mean[0]/len(image_paths), image_mean[1]/len(image_paths), image_mean[2]/len(image_paths)]\n",
    "# opt['std'] = [image_std[0]/len(image_paths), image_std[1]/len(image_paths), image_std[2]/len(image_paths)]\n",
    "\n",
    "# print('mean: {}\\nstd: {}'.format(opt['mean'], opt['std']))"
   ]
  },
  {
   "cell_type": "markdown",
   "metadata": {},
   "source": [
    "### - Transform"
   ]
  },
  {
   "cell_type": "code",
   "execution_count": 5,
   "metadata": {},
   "outputs": [],
   "source": [
    "training_transform = transforms.Compose([\n",
    "                                         RandAugment(3),  # Flip, Brightness, Elastic, Zoom, Blur\n",
    "                                         Resizer(opt['input_size']),\n",
    "                                         Windowing(windowing=opt['Windowing'],WC=opt['WC'],WW=opt['WW'],rescale=False),\n",
    "                                         Normalizer(mean=opt['mean'], std=opt['std']),\n",
    "                                        ])\n",
    "\n",
    "val_transform = transforms.Compose([\n",
    "                                    Resizer(opt['input_size']),\n",
    "                                    Windowing(windowing=opt['Windowing'],WC=opt['WC'],WW=opt['WW'],rescale=False),\n",
    "                                    Normalizer(mean=opt['mean'], std=opt['std'])\n",
    "                                   ])\n",
    "\n",
    "test_transform = transforms.Compose([\n",
    "                                     Resizer(opt['input_size']),\n",
    "                                     Windowing(windowing=opt['Windowing'],WC=opt['WC'],WW=opt['WW'],rescale=False),\n",
    "                                     Normalizer(mean=opt['mean'], std=opt['std'])\n",
    "                                    ])"
   ]
  },
  {
   "cell_type": "markdown",
   "metadata": {},
   "source": [
    "### - Visualization"
   ]
  },
  {
   "cell_type": "code",
   "execution_count": 6,
   "metadata": {},
   "outputs": [],
   "source": [
    "training_set = EICDataset(train_right_eic,\n",
    "                           transform=training_transform)"
   ]
  },
  {
   "cell_type": "code",
   "execution_count": 7,
   "metadata": {},
   "outputs": [
    {
     "name": "stdout",
     "output_type": "stream",
     "text": [
      "tensor([1.])\n"
     ]
    },
    {
     "data": {
      "image/png": "[encoded data removed]",
      "text/plain": [
       "<Figure size 360x360 with 1 Axes>"
      ]
     },
     "metadata": {
      "needs_background": "light"
     },
     "output_type": "display_data"
    }
   ],
   "source": [
    "### Get specific train images\n",
    "data = training_set.__getitem__(30) # Convert to 4d tensor (BxNxHxW)\n",
    "image = data['img']\n",
    "image = (image - image.min()) / (image.max() - image.min())\n",
    "print(data['annot'])\n",
    "fig, ax0 = plt.subplots(figsize=(5,5))\n",
    "ax0.imshow(image,'gray')\n",
    "ax0.axis('off');"
   ]
  },
  {
   "cell_type": "markdown",
   "metadata": {},
   "source": [
    "# Train"
   ]
  },
  {
   "cell_type": "markdown",
   "metadata": {},
   "source": [
    "### - Dataset"
   ]
  },
  {
   "cell_type": "code",
   "execution_count": 8,
   "metadata": {},
   "outputs": [
    {
     "name": "stdout",
     "output_type": "stream",
     "text": [
      "training eic set:12230\ttraining normal set:11698\n"
     ]
    }
   ],
   "source": [
    "# eic+oi eic O\n",
    "train_eic_image_paths = train_right_eic + train_left_eic + train_right_eic_oi + train_left_eic_oi\n",
    "# oi noraml X\n",
    "train_normal_image_paths = train_right_oi + train_left_oi + train_right_normal + train_left_normal\n",
    "\n",
    "val_image_paths = test_right_eic + test_left_eic + test_right_oi + test_left_oi + \\\n",
    "                  test_right_eic_oi + test_left_eic_oi + test_right_normal + test_left_normal\n",
    "\n",
    "# Updata dataset\n",
    "training_eic_set = EICDataset(train_eic_image_paths, transform=training_transform)\n",
    "for trans_num in range(4): # 5 times\n",
    "    add_set = EICDataset(train_eic_image_paths, transform=training_transform)\n",
    "    training_eic_set = training_eic_set + add_set\n",
    "\n",
    "training_normal_set = EICDataset(train_normal_image_paths, transform=training_transform)\n",
    "\n",
    "training_set = training_eic_set + training_normal_set\n",
    "\n",
    "val_set = EICDataset(val_image_paths, transform=val_transform)      \n",
    "\n",
    "print('training eic set:{}\\ttraining normal set:{}'.format(len(training_eic_set),len(training_normal_set)))\n",
    "\n",
    "# Update generator\n",
    "training_generator = DataLoader(training_set, **training_params)\n",
    "val_generator = DataLoader(val_set, **val_params)"
   ]
  },
  {
   "cell_type": "markdown",
   "metadata": {},
   "source": [
    "### - Lightning module"
   ]
  },
  {
   "cell_type": "code",
   "execution_count": 9,
   "metadata": {},
   "outputs": [],
   "source": [
    "class Solver(pl.LightningModule):\n",
    "    def __init__(self):\n",
    "        super().__init__()\n",
    "\n",
    "        # Load pretrained model\n",
    "        model = EfficientNet.from_pretrained('efficientnet-b{}'.format(opt['compound_coef']))\n",
    "        model._fc = torch.nn.Linear(1792, 1)\n",
    "        model.to(device)\n",
    "        model.load_state_dict(torch.load(opt['load_weights']))\n",
    "        \n",
    "        # Model\n",
    "        self.model = model\n",
    "\n",
    "        # Criterion\n",
    "        self.criterion = nn.BCEWithLogitsLoss()\n",
    "        \n",
    "        # Metric\n",
    "        self.Accuracy = torchmetrics.Accuracy()\n",
    "        self.Precision = torchmetrics.Precision()\n",
    "        self.Sensitivity = torchmetrics.Recall()\n",
    "        self.Specificity = torchmetrics.Specificity()\n",
    "        self.AUC = torchmetrics.AUROC(pos_label=1)\n",
    "\n",
    "    def forward(self, x):\n",
    "        out = self.model(x)\n",
    "        return out\n",
    "\n",
    "    def training_step(self, batch, batch_idx):\n",
    "        x = batch['img']\n",
    "        y = batch['annot']\n",
    "        \n",
    "        pred = self(x)\n",
    "        loss = self.criterion(pred, y)\n",
    "                \n",
    "        # Tensorboard log\n",
    "        self.logger.experiment.add_scalar('Train/Loss', loss, self.trainer.global_step)\n",
    "        \n",
    "        # Log for callbacks\n",
    "        self.log('iteration', self.trainer.global_step, on_step=True, on_epoch=False, prog_bar=True, logger=False)\n",
    "        \n",
    "        return loss\n",
    "    \n",
    "    def validation_step(self, batch, batch_idx):\n",
    "        x = batch['img']\n",
    "        y = batch['annot']\n",
    "        \n",
    "        pred = self(x)\n",
    "        loss = self.criterion(pred, y)\n",
    "        \n",
    "        return {'Loss': loss, 'GT': y.detach(), 'Pred': torch.sigmoid(pred).detach()}\n",
    "        \n",
    "    def validation_epoch_end(self, outputs):\n",
    "        avg_loss = torch.stack([x['Loss'] for x in outputs]).mean()\n",
    "        gt = torch.cat([x['GT'] for x in outputs]).long()\n",
    "        pred = torch.cat([x['Pred'] for x in outputs])\n",
    "        \n",
    "        # Metric\n",
    "        accuracy = self.Accuracy(pred, gt)\n",
    "        precision = self.Precision(pred, gt)\n",
    "        sensitivity = self.Sensitivity(pred, gt)\n",
    "        specificity = self.Specificity(pred, gt)\n",
    "        auc = self.AUC(pred, gt)\n",
    "                \n",
    "        # Tensorboard log\n",
    "        self.logger.experiment.add_scalar('Val/Loss', avg_loss, self.trainer.global_step)\n",
    "        self.logger.experiment.add_scalar('Val/Accuracy', accuracy, self.trainer.global_step)\n",
    "        self.logger.experiment.add_scalar('Val/Precision', precision, self.trainer.global_step)\n",
    "        self.logger.experiment.add_scalar('Val/Sensitivity', sensitivity, self.trainer.global_step)\n",
    "        self.logger.experiment.add_scalar('Val/Specificity', specificity, self.trainer.global_step)\n",
    "        self.logger.experiment.add_scalar('Val/AUC', auc, self.trainer.global_step)\n",
    "        \n",
    "        del outputs\n",
    "        torch.cuda.empty_cache()\n",
    "        \n",
    "        # Log for callbakcs\n",
    "        self.log('AUC', auc, on_step=False, on_epoch=True, prog_bar=False, logger=False)\n",
    "        \n",
    "    def configure_optimizers(self):\n",
    "        optimizer = torch.optim.AdamW(filter(lambda x: x.requires_grad, self.parameters()), opt['lr'])            \n",
    "        lr_scheduler = {'scheduler': torch.optim.lr_scheduler.CosineAnnealingWarmRestarts(optimizer,\n",
    "                                                                            T_0=int(len(training_generator)*opt['num_epochs']/31),\n",
    "                                                                            T_mult=2, eta_min=0),\n",
    "                        'name': 'learning_rate',\n",
    "                        'interval':'step',\n",
    "                        'frequency': 1}\n",
    "        \n",
    "        return [optimizer], [lr_scheduler]"
   ]
  },
  {
   "cell_type": "markdown",
   "metadata": {},
   "source": [
    "### - Log"
   ]
  },
  {
   "cell_type": "code",
   "execution_count": 10,
   "metadata": {},
   "outputs": [],
   "source": [
    "# PL Callbacks\n",
    "tb_logger = TensorBoardLogger(save_dir=opt['log_path']+'{}/'.format(datetime.datetime.now().strftime(\"%Y%m%d-%H%M%S\")),\n",
    "                              name=None)\n",
    "\n",
    "# Checkpoint\n",
    "checkpointing = pl.callbacks.ModelCheckpoint(\n",
    "    dirpath=opt['saved_path'],\n",
    "    filename='iter{iteration:.0f}_auc{AUC:.2f}',\n",
    "    save_last=True,\n",
    "    save_top_k=20,\n",
    "    monitor='AUC',\n",
    "    mode='max',\n",
    "    auto_insert_metric_name=False\n",
    ")\n",
    "\n",
    "# Learning rate monitor\n",
    "lr_monitor = pl.callbacks.LearningRateMonitor(logging_interval='step')"
   ]
  },
  {
   "cell_type": "markdown",
   "metadata": {},
   "source": [
    "### - Train"
   ]
  },
  {
   "cell_type": "code",
   "execution_count": null,
   "metadata": {},
   "outputs": [
    {
     "name": "stderr",
     "output_type": "stream",
     "text": [
      "Using native 16bit precision.\n",
      "GPU available: True, used: True\n",
      "TPU available: False, using: 0 TPU cores\n",
      "IPU available: False, using: 0 IPUs\n"
     ]
    },
    {
     "name": "stdout",
     "output_type": "stream",
     "text": [
      "Loaded pretrained weights for efficientnet-b4\n"
     ]
    },
    {
     "name": "stderr",
     "output_type": "stream",
     "text": [
      "LOCAL_RANK: 0 - CUDA_VISIBLE_DEVICES: [0]\n",
      "\n",
      "  | Name        | Type              | Params\n",
      "--------------------------------------------------\n",
      "0 | model       | EfficientNet      | 17.6 M\n",
      "1 | criterion   | BCEWithLogitsLoss | 0     \n",
      "2 | Accuracy    | Accuracy          | 0     \n",
      "3 | Precision   | Precision         | 0     \n",
      "4 | Sensitivity | Recall            | 0     \n",
      "5 | Specificity | Specificity       | 0     \n",
      "6 | AUC         | AUROC             | 0     \n",
      "--------------------------------------------------\n",
      "17.6 M    Trainable params\n",
      "0         Non-trainable params\n",
      "17.6 M    Total params\n",
      "70.202    Total estimated model params size (MB)\n"
     ]
    },
    {
     "data": {
      "application/vnd.jupyter.widget-view+json": {
       "model_id": "ee54df4b33c241a1b16309ad802e43ae",
       "version_major": 2,
       "version_minor": 0
      },
      "text/plain": [
       "Training: -1it [00:00, ?it/s]"
      ]
     },
     "metadata": {},
     "output_type": "display_data"
    }
   ],
   "source": [
    "os.makedirs(opt['log_path'], exist_ok=True)\n",
    "os.makedirs(opt['saved_path'], exist_ok=True)\n",
    "\n",
    "trainer = pl.Trainer(max_epochs=opt['num_epochs'],\n",
    "                     num_sanity_val_steps=0,\n",
    "                     gpus=opt['num_gpus'],\n",
    "                     callbacks=[checkpointing, lr_monitor],\n",
    "                     logger=tb_logger,\n",
    "                     precision= 16 if opt['precision'] == 16 else 32,\n",
    "                     stochastic_weight_avg=opt['swa'])\n",
    "\n",
    "model = Solver()\n",
    "\n",
    "# Start Training!\n",
    "trainer.fit(model, training_generator, val_generator)"
   ]
  },
  {
   "cell_type": "markdown",
   "metadata": {},
   "source": [
    "# Save Results"
   ]
  },
  {
   "cell_type": "markdown",
   "metadata": {},
   "source": [
    "### - Test dataset"
   ]
  },
  {
   "cell_type": "code",
   "execution_count": 10,
   "metadata": {},
   "outputs": [],
   "source": [
    "# Load fold images\n",
    "test_images = test_right_eic+test_right_oi+test_right_eic_oi+test_right_normal+\\\n",
    "              test_left_eic+test_left_oi+test_left_eic_oi+test_left_normal\n",
    "test_set = EICDataset(test_images, transform=test_transform)\n",
    "test_generator = DataLoader(test_set, **test_params)"
   ]
  },
  {
   "cell_type": "markdown",
   "metadata": {},
   "source": [
    "### - Save images"
   ]
  },
  {
   "cell_type": "code",
   "execution_count": 11,
   "metadata": {},
   "outputs": [
    {
     "name": "stdout",
     "output_type": "stream",
     "text": [
      "Loaded pretrained weights for efficientnet-b4\n",
      "Accuracy: 0.8503. Precision: 0.5600. Recall: 0.6766. Specificity: 0.8871. AUC: 0.8898\n",
      "TP: 182    TN: 1124    FP: 143    FN: 87\n"
     ]
    },
    {
     "data": {
      "image/png": "[encoded data removed]",
      "text/plain": [
       "<Figure size 720x504 with 1 Axes>"
      ]
     },
     "metadata": {
      "needs_background": "light"
     },
     "output_type": "display_data"
    }
   ],
   "source": [
    "# Load model\n",
    "weight_path = opt['saved_path'] + 'iter16444_auc0.89.ckpt'\n",
    "model = Solver.load_from_checkpoint(weight_path)\n",
    "model.to(device)\n",
    "model.eval()\n",
    "Grad_CAM = GradCam(model.model, device)\n",
    "\n",
    "eps = 1e-10\n",
    "\n",
    "tp = 0\n",
    "fp = 0\n",
    "tn = 0\n",
    "fn = 0\n",
    "\n",
    "true = []\n",
    "pred = []\n",
    "\n",
    "EIC_results = [['ID','Slice','lateral','GT_EIC','Pred_EIC']]\n",
    "\n",
    "for iter, data in enumerate(test_generator):\n",
    "\n",
    "    dataset = pydicom.read_file(test_images[iter])\n",
    "    ori_img = dataset.pixel_array\n",
    "    _, _, intercept, slope = get_windowing(dataset)\n",
    "    ori_img = (ori_img * slope + intercept)\n",
    "    ori_img = ori_img\n",
    "    ori_img = windowing(ori_img, opt['WC'], opt['WW'],rescale=True)\n",
    "    ori_img = np.stack((ori_img,ori_img,ori_img),axis=-1)\n",
    "\n",
    "    x = test_images[iter].split('\\\\')\n",
    "    filename = x[-1]\n",
    "    if test_images[iter].split('/')[-1].split('\\\\')[0].split('_')[-1]=='right':\n",
    "        lateral = 'R'\n",
    "    else: lateral = 'L'\n",
    "    HR = x[-1][0:3]\n",
    "    \n",
    "    img = data['img'].to(device, dtype=torch.float32)\n",
    "    annot = data['annot'].to(device)       \n",
    "    predicted = torch.sigmoid(model(img))\n",
    "\n",
    "    if annot==1:\n",
    "        gt='EIC'\n",
    "    else: gt='Normal'\n",
    "    \n",
    "    cam_img = tensor2img(Grad_CAM(img, model.model._blocks[31]._expand_conv)[0])\n",
    "    cam_img = ((cam_img - cam_img.min()) / (cam_img.max() - cam_img.min()))\n",
    "\n",
    "    true.append(annot[0].detach().cpu()[0])\n",
    "    pred.append(predicted[0].detach().cpu()[0])\n",
    "    \n",
    "    fig, (ax0, ax1) = plt.subplots(1, 2, figsize=(10,5), clear=True)\n",
    "    ax0.imshow(ori_img)\n",
    "    ax0.set_title('Ground Truth: {}'.format(gt))\n",
    "    ax1.imshow(cam_img)\n",
    "    ax1.set_title('Pred: {:.4f}'.format(predicted.cpu().detach().numpy()[0][0]))\n",
    "    plt.close(fig)\n",
    "    \n",
    "    EIC_results.append([HR,filename,lateral,gt,predicted.cpu().detach().numpy()[0][0]])\n",
    "    \n",
    "    # Save image    \n",
    "    if annot==1 and predicted[0][0].round()==1:\n",
    "        tp+=1\n",
    "        fig.savefig('./test/{}/{}/TP/{}_{}.png'.format(opt['project'],opt['sub_project'],filename[:-4],lateral), dpi=150)\n",
    "    elif annot==1 and predicted[0][0].round()==0:\n",
    "        fn+=1\n",
    "        fig.savefig('./test/{}/{}/FN/{}_{}.png'.format(opt['project'],opt['sub_project'],filename[:-4],lateral), dpi=150)\n",
    "    elif annot==0 and predicted[0][0].round()==0:\n",
    "        tn+=1\n",
    "        fig.savefig('./test/{}/{}/TN/{}_{}.png'.format(opt['project'],opt['sub_project'],filename[:-4],lateral), dpi=150)\n",
    "    else:\n",
    "        fp+=1\n",
    "        fig.savefig('./test/{}/{}/FP/{}_{}.png'.format(opt['project'],opt['sub_project'],filename[:-4],lateral), dpi=150)\n",
    "\n",
    "print('Accuracy: {:.4f}. Precision: {:.4f}. Recall: {:.4f}. Specificity: {:.4f}. AUC: {:.4f}'.format(\n",
    "                               (tp+tn)/(tp+tn+fp+fn+eps), tp/(tp+fp+eps),\n",
    "                               tp/(tp+fn+eps), tn/(tn+fp+eps), roc_auc_score(true,pred)))\n",
    "print('TP: {}    TN: {}    FP: {}    FN: {}'.format(tp,tn,fp,fn))\n",
    "\n",
    "tp, tn, fp, fn = plot_results(true, pred, title='EIC results')"
   ]
  },
  {
   "cell_type": "code",
   "execution_count": 12,
   "metadata": {},
   "outputs": [],
   "source": [
    "df = pd.DataFrame(EIC_results)\n",
    "df.to_csv('./results/{}_A_results(210915).csv'.format(opt['sub_project']), index=False, header=False)"
   ]
  },
  {
   "cell_type": "markdown",
   "metadata": {},
   "source": [
    "### - Save weight"
   ]
  },
  {
   "cell_type": "code",
   "execution_count": 14,
   "metadata": {},
   "outputs": [
    {
     "name": "stdout",
     "output_type": "stream",
     "text": [
      "Loaded pretrained weights for efficientnet-b4\n"
     ]
    }
   ],
   "source": [
    "torch.save(model.model.state_dict(),'./weights/{}_{}.pth'.format(opt['project'],opt['sub_project']))"
   ]
  },
  {
   "cell_type": "markdown",
   "metadata": {},
   "source": [
    "# Test Gil"
   ]
  },
  {
   "cell_type": "markdown",
   "metadata": {},
   "source": [
    "### - Save CAM and probability"
   ]
  },
  {
   "cell_type": "code",
   "execution_count": 10,
   "metadata": {},
   "outputs": [],
   "source": [
    "HR_list = os.listdir('D:/TestSET_cELVO_210913')[1:]\n",
    "csv = pd.read_excel('D:/TestSET_cELVO_210913/Annotation_GH_cELVO_v2.xlsx')"
   ]
  },
  {
   "cell_type": "code",
   "execution_count": null,
   "metadata": {},
   "outputs": [
    {
     "name": "stdout",
     "output_type": "stream",
     "text": [
      "Loaded pretrained weights for efficientnet-b4\n"
     ]
    }
   ],
   "source": [
    "weight_path = opt['saved_path'] + 'iter16444_auc0.89.ckpt'\n",
    "model = Solver.load_from_checkpoint(weight_path)\n",
    "model.to(device)\n",
    "model.eval()\n",
    "Grad_CAM = GradCam(model.model, device)\n",
    "\n",
    "r_pred = []\n",
    "l_pred = []\n",
    "EIC_results = [['ID','Slice','GT_LVO','Pred_EIC']]\n",
    "\n",
    "fig, (ax0, ax1) = plt.subplots(1, 2, figsize=(10,5), clear=True)\n",
    "\n",
    "for HR in HR_list:\n",
    "    HR_r_pred = []\n",
    "    HR_l_pred = []\n",
    "    \n",
    "    if csv.loc[csv['Name']==HR,'Class1'].tolist()[0]=='LVO_R':\n",
    "        gt = 'R'\n",
    "    elif csv.loc[csv['Name']==HR,'Class2'].tolist()[0]=='LVO_L':\n",
    "        gt = 'L'\n",
    "    else: gt = 'N'\n",
    "    \n",
    "    right_dcm = glob('D:/TestSET_cELVO_210913/{}/ELVO/RH/*dcm'.format(HR))\n",
    "    left_dcm = glob('D:/TestSET_cELVO_210913/{}/ELVO/LH/*dcm'.format(HR))\n",
    "    \n",
    "    for path in right_dcm:\n",
    "        dataset = pydicom.read_file(path, force=True)\n",
    "        dataset.file_meta.TransferSyntaxUID = pydicom.uid.ImplicitVRLittleEndian\n",
    "        \n",
    "        image = dataset.pixel_array.astype(np.float32)\n",
    "    \n",
    "        # windowing 파라미터 획득\n",
    "        _, _, intercept, slope = get_windowing(dataset)\n",
    "        \n",
    "        # rescale 수행\n",
    "        image = (image * slope + intercept)\n",
    "        t_image = test_transform(image).unsqueeze(0).permute(0,3,1,2)\n",
    "        pred = torch.sigmoid(model(t_image.to(device, dtype=torch.float32)))\n",
    "        \n",
    "        HR_r_pred.append(pred.cpu().detach().numpy())\n",
    "        EIC_results.append([HR, path.split('\\\\')[-1], gt, pred.cpu().detach().numpy()[0][0]])\n",
    "        \n",
    "        # Grad-CAM\n",
    "        cam_img = tensor2img(Grad_CAM(t_image, model.model._blocks[31]._expand_conv)[0])\n",
    "        cam_img = ((cam_img - cam_img.min()) / (cam_img.max() - cam_img.min()))\n",
    "\n",
    "        t_image_save = ((t_image - t_image.min()) / (t_image.max() - t_image.min())).permute(0,2,3,1)[0].cpu().detach().numpy()\n",
    "        \n",
    "        os.makedirs('Z:/Stroke/SharingFolder/cELVO/EIC_CAM/{}/{}/RH'.format(opt['sub_project'],HR),exist_ok=True)\n",
    "        \n",
    "        ax0.imshow(t_image_save)\n",
    "        ax0.set_title('Ground Truth: LVO-{}'.format(gt))\n",
    "        ax1.imshow(cam_img)\n",
    "        ax1.set_title('Pred: {:.4f}'.format(pred.cpu().detach().numpy()[0][0]))\n",
    "        fig.savefig('Z:/Stroke/SharingFolder/cELVO/EIC_CAM/{}/{}/RH/{}.png'.format(opt['sub_project'],\n",
    "                                                                                          HR,path.split('\\\\')[-1][:-4]), dpi=150)\n",
    "        plt.close()\n",
    "        \n",
    "    for path in left_dcm:\n",
    "        dataset = pydicom.read_file(path, force=True)\n",
    "        dataset.file_meta.TransferSyntaxUID = pydicom.uid.ImplicitVRLittleEndian\n",
    "        \n",
    "        image = dataset.pixel_array.astype(np.float32)\n",
    "    \n",
    "        # windowing 파라미터 획득\n",
    "        _, _, intercept, slope = get_windowing(dataset)\n",
    "        \n",
    "        # rescale 수행\n",
    "        image = (image * slope + intercept)\n",
    "        t_image = test_transform(image).unsqueeze(0).permute(0,3,1,2)\n",
    "        pred = torch.sigmoid(model(t_image.to(device, dtype=torch.float32)))\n",
    "        \n",
    "        HR_l_pred.append(pred.cpu().detach().numpy())\n",
    "        EIC_results.append([HR, path.split('\\\\')[-1], gt, pred.cpu().detach().numpy()[0][0]])\n",
    "\n",
    "        # Grad-CAM\n",
    "        cam_img = tensor2img(Grad_CAM(t_image, model.model._blocks[31]._expand_conv)[0])\n",
    "        cam_img = ((cam_img - cam_img.min()) / (cam_img.max() - cam_img.min()))\n",
    "\n",
    "        t_image_save = ((t_image - t_image.min()) / (t_image.max() - t_image.min())).permute(0,2,3,1)[0].cpu().detach().numpy()\n",
    "        \n",
    "        os.makedirs('Z:/Stroke/SharingFolder/cELVO/EIC_CAM/{}/{}/LH'.format(opt['sub_project'],HR),exist_ok=True)\n",
    "        \n",
    "        ax0.imshow(t_image_save)\n",
    "        ax0.set_title('Ground Truth: LVO-{}'.format(gt))\n",
    "        ax1.imshow(cam_img)\n",
    "        ax1.set_title('Pred: {:.4f}'.format(pred.cpu().detach().numpy()[0][0]))\n",
    "        fig.savefig('Z:/Stroke/SharingFolder/cELVO/EIC_CAM/{}/{}/LH/{}.png'.format(opt['sub_project'],\n",
    "                                                                                          HR,path.split('\\\\')[-1][:-4]), dpi=150)\n",
    "        plt.close()\n",
    "        \n",
    "    r_pred.append(HR_r_pred)\n",
    "    l_pred.append(HR_l_pred)        "
   ]
  },
  {
   "cell_type": "code",
   "execution_count": 12,
   "metadata": {},
   "outputs": [],
   "source": [
    "df = pd.DataFrame(EIC_results)\n",
    "df.to_csv('./results/{}_G_results(210915).csv'.format(opt['sub_project']), index=False, header=False)"
   ]
  },
  {
   "cell_type": "markdown",
   "metadata": {},
   "source": [
    "### - Test Gil LVO"
   ]
  },
  {
   "cell_type": "code",
   "execution_count": 3,
   "metadata": {},
   "outputs": [],
   "source": [
    "csv = pd.read_csv('./results/{}_G_results(210915).csv'.format(opt['sub_project']))\n",
    "\n",
    "id = csv['ID']\n",
    "id = id.drop_duplicates()\n",
    "HR_list = id.to_list()"
   ]
  },
  {
   "cell_type": "code",
   "execution_count": 55,
   "metadata": {},
   "outputs": [],
   "source": [
    "HR_r_pred = []\n",
    "HR_l_pred = []\n",
    "gt_lvo = []\n",
    "\n",
    "for HR in HR_list:\n",
    "    gt_lvo.append(csv.loc[csv['ID']==HR,'GT_LVO'].tolist()[0])\n",
    "    dcm_list = csv.loc[csv['ID']==HR,'Slice'].tolist()\n",
    "    r_dcm_list = dcm_list[:int(len(dcm_list)/2)]\n",
    "    l_dcm_list = dcm_list[int(len(dcm_list)/2):]\n",
    "\n",
    "    r_pred = []\n",
    "    l_pred = []\n",
    "\n",
    "    for dcm in r_dcm_list:\n",
    "        r_pred.append(csv.loc[(csv['ID']==HR) & (csv['Slice']==dcm),'Pred_EIC'].tolist()[0])\n",
    "    for dcm in l_dcm_list:\n",
    "        l_pred.append(csv.loc[(csv['ID']==HR) & (csv['Slice']==dcm),'Pred_EIC'].tolist()[0])\n",
    "        \n",
    "    HR_r_pred.append(r_pred)\n",
    "    HR_l_pred.append(l_pred)"
   ]
  },
  {
   "cell_type": "code",
   "execution_count": 70,
   "metadata": {},
   "outputs": [],
   "source": [
    "threshold = 0.915\n",
    "\n",
    "pred_lvo = []\n",
    "\n",
    "for i in range(len(HR_list)):\n",
    "    gt = gt_lvo[i]\n",
    "    r_max = np.array(HR_r_pred[i]).max()\n",
    "    l_max = np.array(HR_l_pred[i]).max()\n",
    "    \n",
    "    if r_max >= threshold or l_max >= threshold:\n",
    "        if r_max >= l_max:\n",
    "            pred = 'R'\n",
    "        else: pred= 'L'\n",
    "    else: pred = 'N'\n",
    "        \n",
    "    pred_lvo.append(pred)"
   ]
  },
  {
   "cell_type": "code",
   "execution_count": 53,
   "metadata": {},
   "outputs": [
    {
     "name": "stdout",
     "output_type": "stream",
     "text": [
      "Accuracy: 0.6364. Precision: 0.3708. Sensitivity: 0.6226. Specificity: 0.6410\n"
     ]
    }
   ],
   "source": [
    "tp = 0\n",
    "tn = 0\n",
    "fp = 0\n",
    "fn = 0\n",
    "eps=1e-10\n",
    "\n",
    "for i in range(len(HR_list)):\n",
    "    if pred_lvo[i]=='R' and gt_lvo[i]=='R':\n",
    "        tp+=1\n",
    "    elif pred_lvo[i]=='L' and gt_lvo[i]=='L':\n",
    "        tp+=1\n",
    "    elif pred_lvo[i]=='R' and (gt_lvo[i]=='L' or gt_lvo[i]=='N'):\n",
    "        fp+=1\n",
    "    elif pred_lvo[i]=='L' and (gt_lvo[i]=='R' or gt_lvo[i]=='N'):\n",
    "        fp+=1\n",
    "    elif pred_lvo[i]=='N' and gt_lvo[i]=='N':\n",
    "        tn+=1\n",
    "    elif pred_lvo[i]=='N' and (gt_lvo[i]=='R' or gt_lvo[i]=='L'):\n",
    "        fn+=1\n",
    "        \n",
    "print('Accuracy: {:.4f}. Precision: {:.4f}. Sensitivity: {:.4f}. Specificity: {:.4f}'.format(\n",
    "                               (tp+tn)/(tp+tn+fp+fn+eps), tp/(tp+fp+eps),\n",
    "                               tp/(tp+fn+eps), tn/(tn+fp+eps)))"
   ]
  },
  {
   "cell_type": "code",
   "execution_count": null,
   "metadata": {},
   "outputs": [],
   "source": []
  }
 ],
 "metadata": {
  "kernelspec": {
   "display_name": "Python 3",
   "language": "python",
   "name": "python3"
  },
  "language_info": {
   "codemirror_mode": {
    "name": "ipython",
    "version": 3
   },
   "file_extension": ".py",
   "mimetype": "text/x-python",
   "name": "python",
   "nbconvert_exporter": "python",
   "pygments_lexer": "ipython3",
   "version": "3.8.5"
  }
 },
 "nbformat": 4,
 "nbformat_minor": 4
}
